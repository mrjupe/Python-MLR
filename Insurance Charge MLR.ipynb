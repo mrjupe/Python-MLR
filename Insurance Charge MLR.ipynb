{
 "cells": [
  {
   "cell_type": "code",
   "execution_count": 29,
   "metadata": {},
   "outputs": [],
   "source": [
    "import numpy as np\n",
    "import pandas as pd\n",
    "import matplotlib.pyplot as plt\n",
    "import seaborn as sns\n",
    "import statsmodels.api as sm\n",
    "\n",
    "from sklearn.model_selection import train_test_split\n",
    "from sklearn.linear_model import LinearRegression"
   ]
  },
  {
   "cell_type": "code",
   "execution_count": 30,
   "metadata": {},
   "outputs": [],
   "source": [
    "dataset = pd.read_csv('insurance.csv')"
   ]
  },
  {
   "cell_type": "code",
   "execution_count": 31,
   "metadata": {},
   "outputs": [
    {
     "name": "stdout",
     "output_type": "stream",
     "text": [
      "<class 'pandas.core.frame.DataFrame'>\n",
      "RangeIndex: 1338 entries, 0 to 1337\n",
      "Data columns (total 7 columns):\n",
      " #   Column    Non-Null Count  Dtype  \n",
      "---  ------    --------------  -----  \n",
      " 0   age       1338 non-null   int64  \n",
      " 1   sex       1338 non-null   object \n",
      " 2   bmi       1338 non-null   float64\n",
      " 3   children  1338 non-null   int64  \n",
      " 4   smoker    1338 non-null   object \n",
      " 5   region    1338 non-null   object \n",
      " 6   charges   1338 non-null   float64\n",
      "dtypes: float64(2), int64(2), object(3)\n",
      "memory usage: 73.3+ KB\n"
     ]
    }
   ],
   "source": [
    "dataset.info()"
   ]
  },
  {
   "cell_type": "code",
   "execution_count": 17,
   "metadata": {},
   "outputs": [
    {
     "data": {
      "text/html": [
       "<div>\n",
       "<style scoped>\n",
       "    .dataframe tbody tr th:only-of-type {\n",
       "        vertical-align: middle;\n",
       "    }\n",
       "\n",
       "    .dataframe tbody tr th {\n",
       "        vertical-align: top;\n",
       "    }\n",
       "\n",
       "    .dataframe thead th {\n",
       "        text-align: right;\n",
       "    }\n",
       "</style>\n",
       "<table border=\"1\" class=\"dataframe\">\n",
       "  <thead>\n",
       "    <tr style=\"text-align: right;\">\n",
       "      <th></th>\n",
       "      <th>age</th>\n",
       "      <th>sex</th>\n",
       "      <th>bmi</th>\n",
       "      <th>children</th>\n",
       "      <th>smoker</th>\n",
       "      <th>region</th>\n",
       "      <th>charges</th>\n",
       "    </tr>\n",
       "  </thead>\n",
       "  <tbody>\n",
       "    <tr>\n",
       "      <th>0</th>\n",
       "      <td>19</td>\n",
       "      <td>0</td>\n",
       "      <td>27.900</td>\n",
       "      <td>0</td>\n",
       "      <td>1</td>\n",
       "      <td>2</td>\n",
       "      <td>16884.92400</td>\n",
       "    </tr>\n",
       "    <tr>\n",
       "      <th>1</th>\n",
       "      <td>18</td>\n",
       "      <td>1</td>\n",
       "      <td>33.770</td>\n",
       "      <td>1</td>\n",
       "      <td>0</td>\n",
       "      <td>1</td>\n",
       "      <td>1725.55230</td>\n",
       "    </tr>\n",
       "    <tr>\n",
       "      <th>2</th>\n",
       "      <td>28</td>\n",
       "      <td>1</td>\n",
       "      <td>33.000</td>\n",
       "      <td>3</td>\n",
       "      <td>0</td>\n",
       "      <td>1</td>\n",
       "      <td>4449.46200</td>\n",
       "    </tr>\n",
       "    <tr>\n",
       "      <th>3</th>\n",
       "      <td>33</td>\n",
       "      <td>1</td>\n",
       "      <td>22.705</td>\n",
       "      <td>0</td>\n",
       "      <td>0</td>\n",
       "      <td>4</td>\n",
       "      <td>21984.47061</td>\n",
       "    </tr>\n",
       "    <tr>\n",
       "      <th>4</th>\n",
       "      <td>32</td>\n",
       "      <td>1</td>\n",
       "      <td>28.880</td>\n",
       "      <td>0</td>\n",
       "      <td>0</td>\n",
       "      <td>4</td>\n",
       "      <td>3866.85520</td>\n",
       "    </tr>\n",
       "  </tbody>\n",
       "</table>\n",
       "</div>"
      ],
      "text/plain": [
       "   age  sex     bmi  children  smoker  region      charges\n",
       "0   19    0  27.900         0       1       2  16884.92400\n",
       "1   18    1  33.770         1       0       1   1725.55230\n",
       "2   28    1  33.000         3       0       1   4449.46200\n",
       "3   33    1  22.705         0       0       4  21984.47061\n",
       "4   32    1  28.880         0       0       4   3866.85520"
      ]
     },
     "execution_count": 17,
     "metadata": {},
     "output_type": "execute_result"
    }
   ],
   "source": [
    "dataset.describe()\n",
    "dataset.head()"
   ]
  },
  {
   "cell_type": "code",
   "execution_count": 5,
   "metadata": {},
   "outputs": [],
   "source": [
    "dataset.sex = dataset.sex.replace(['female', 'male'], [0,1])\n",
    "dataset.smoker = dataset.smoker.replace(['no', 'yes'], [0,1])\n",
    "dataset.region = dataset.region.replace(['southeast', 'southwest', 'northeast','northwest'],[1,2,3,4])"
   ]
  },
  {
   "cell_type": "code",
   "execution_count": 19,
   "metadata": {},
   "outputs": [],
   "source": [
    "x = dataset.drop(['charges'], axis=1)\n",
    "y = dataset.charges"
   ]
  },
  {
   "cell_type": "code",
   "execution_count": 20,
   "metadata": {},
   "outputs": [
    {
     "data": {
      "text/html": [
       "<table class=\"simpletable\">\n",
       "<caption>OLS Regression Results</caption>\n",
       "<tr>\n",
       "  <th>Dep. Variable:</th>         <td>charges</td>     <th>  R-squared:         </th> <td>   0.750</td> \n",
       "</tr>\n",
       "<tr>\n",
       "  <th>Model:</th>                   <td>OLS</td>       <th>  Adj. R-squared:    </th> <td>   0.749</td> \n",
       "</tr>\n",
       "<tr>\n",
       "  <th>Method:</th>             <td>Least Squares</td>  <th>  F-statistic:       </th> <td>   667.1</td> \n",
       "</tr>\n",
       "<tr>\n",
       "  <th>Date:</th>             <td>Thu, 01 Apr 2021</td> <th>  Prob (F-statistic):</th>  <td>  0.00</td>  \n",
       "</tr>\n",
       "<tr>\n",
       "  <th>Time:</th>                 <td>22:20:04</td>     <th>  Log-Likelihood:    </th> <td> -13549.</td> \n",
       "</tr>\n",
       "<tr>\n",
       "  <th>No. Observations:</th>      <td>  1338</td>      <th>  AIC:               </th> <td>2.711e+04</td>\n",
       "</tr>\n",
       "<tr>\n",
       "  <th>Df Residuals:</th>          <td>  1331</td>      <th>  BIC:               </th> <td>2.715e+04</td>\n",
       "</tr>\n",
       "<tr>\n",
       "  <th>Df Model:</th>              <td>     6</td>      <th>                     </th>     <td> </td>    \n",
       "</tr>\n",
       "<tr>\n",
       "  <th>Covariance Type:</th>      <td>nonrobust</td>    <th>                     </th>     <td> </td>    \n",
       "</tr>\n",
       "</table>\n",
       "<table class=\"simpletable\">\n",
       "<tr>\n",
       "      <td></td>        <th>coef</th>     <th>std err</th>      <th>t</th>      <th>P>|t|</th>  <th>[0.025</th>    <th>0.975]</th>  \n",
       "</tr>\n",
       "<tr>\n",
       "  <th>const</th>    <td>-1.321e+04</td> <td> 1118.292</td> <td>  -11.809</td> <td> 0.000</td> <td>-1.54e+04</td> <td> -1.1e+04</td>\n",
       "</tr>\n",
       "<tr>\n",
       "  <th>age</th>      <td>  256.9680</td> <td>   11.898</td> <td>   21.598</td> <td> 0.000</td> <td>  233.628</td> <td>  280.308</td>\n",
       "</tr>\n",
       "<tr>\n",
       "  <th>sex</th>      <td> -128.9561</td> <td>  333.008</td> <td>   -0.387</td> <td> 0.699</td> <td> -782.233</td> <td>  524.321</td>\n",
       "</tr>\n",
       "<tr>\n",
       "  <th>bmi</th>      <td>  337.0245</td> <td>   28.397</td> <td>   11.868</td> <td> 0.000</td> <td>  281.317</td> <td>  392.732</td>\n",
       "</tr>\n",
       "<tr>\n",
       "  <th>children</th> <td>  468.3540</td> <td>  137.745</td> <td>    3.400</td> <td> 0.001</td> <td>  198.134</td> <td>  738.574</td>\n",
       "</tr>\n",
       "<tr>\n",
       "  <th>smoker</th>   <td> 2.387e+04</td> <td>  412.691</td> <td>   57.833</td> <td> 0.000</td> <td> 2.31e+04</td> <td> 2.47e+04</td>\n",
       "</tr>\n",
       "<tr>\n",
       "  <th>region</th>   <td>  297.8372</td> <td>  152.286</td> <td>    1.956</td> <td> 0.051</td> <td>   -0.909</td> <td>  596.584</td>\n",
       "</tr>\n",
       "</table>\n",
       "<table class=\"simpletable\">\n",
       "<tr>\n",
       "  <th>Omnibus:</th>       <td>300.491</td> <th>  Durbin-Watson:     </th> <td>   2.093</td> \n",
       "</tr>\n",
       "<tr>\n",
       "  <th>Prob(Omnibus):</th> <td> 0.000</td>  <th>  Jarque-Bera (JB):  </th> <td> 716.279</td> \n",
       "</tr>\n",
       "<tr>\n",
       "  <th>Skew:</th>          <td> 1.213</td>  <th>  Prob(JB):          </th> <td>2.90e-156</td>\n",
       "</tr>\n",
       "<tr>\n",
       "  <th>Kurtosis:</th>      <td> 5.638</td>  <th>  Cond. No.          </th> <td>    348.</td> \n",
       "</tr>\n",
       "</table><br/><br/>Notes:<br/>[1] Standard Errors assume that the covariance matrix of the errors is correctly specified."
      ],
      "text/plain": [
       "<class 'statsmodels.iolib.summary.Summary'>\n",
       "\"\"\"\n",
       "                            OLS Regression Results                            \n",
       "==============================================================================\n",
       "Dep. Variable:                charges   R-squared:                       0.750\n",
       "Model:                            OLS   Adj. R-squared:                  0.749\n",
       "Method:                 Least Squares   F-statistic:                     667.1\n",
       "Date:                Thu, 01 Apr 2021   Prob (F-statistic):               0.00\n",
       "Time:                        22:20:04   Log-Likelihood:                -13549.\n",
       "No. Observations:                1338   AIC:                         2.711e+04\n",
       "Df Residuals:                    1331   BIC:                         2.715e+04\n",
       "Df Model:                           6                                         \n",
       "Covariance Type:            nonrobust                                         \n",
       "==============================================================================\n",
       "                 coef    std err          t      P>|t|      [0.025      0.975]\n",
       "------------------------------------------------------------------------------\n",
       "const      -1.321e+04   1118.292    -11.809      0.000   -1.54e+04    -1.1e+04\n",
       "age          256.9680     11.898     21.598      0.000     233.628     280.308\n",
       "sex         -128.9561    333.008     -0.387      0.699    -782.233     524.321\n",
       "bmi          337.0245     28.397     11.868      0.000     281.317     392.732\n",
       "children     468.3540    137.745      3.400      0.001     198.134     738.574\n",
       "smoker      2.387e+04    412.691     57.833      0.000    2.31e+04    2.47e+04\n",
       "region       297.8372    152.286      1.956      0.051      -0.909     596.584\n",
       "==============================================================================\n",
       "Omnibus:                      300.491   Durbin-Watson:                   2.093\n",
       "Prob(Omnibus):                  0.000   Jarque-Bera (JB):              716.279\n",
       "Skew:                           1.213   Prob(JB):                    2.90e-156\n",
       "Kurtosis:                       5.638   Cond. No.                         348.\n",
       "==============================================================================\n",
       "\n",
       "Notes:\n",
       "[1] Standard Errors assume that the covariance matrix of the errors is correctly specified.\n",
       "\"\"\""
      ]
     },
     "execution_count": 20,
     "metadata": {},
     "output_type": "execute_result"
    }
   ],
   "source": [
    "x2 = sm.add_constant(x)\n",
    "review = sm.OLS(y, x2).fit()\n",
    "review.summary()"
   ]
  },
  {
   "cell_type": "code",
   "execution_count": 21,
   "metadata": {},
   "outputs": [
    {
     "data": {
      "text/html": [
       "<div>\n",
       "<style scoped>\n",
       "    .dataframe tbody tr th:only-of-type {\n",
       "        vertical-align: middle;\n",
       "    }\n",
       "\n",
       "    .dataframe tbody tr th {\n",
       "        vertical-align: top;\n",
       "    }\n",
       "\n",
       "    .dataframe thead th {\n",
       "        text-align: right;\n",
       "    }\n",
       "</style>\n",
       "<table border=\"1\" class=\"dataframe\">\n",
       "  <thead>\n",
       "    <tr style=\"text-align: right;\">\n",
       "      <th></th>\n",
       "      <th>age</th>\n",
       "      <th>bmi</th>\n",
       "      <th>children</th>\n",
       "      <th>smoker</th>\n",
       "    </tr>\n",
       "  </thead>\n",
       "  <tbody>\n",
       "    <tr>\n",
       "      <th>0</th>\n",
       "      <td>19</td>\n",
       "      <td>27.900</td>\n",
       "      <td>0</td>\n",
       "      <td>1</td>\n",
       "    </tr>\n",
       "    <tr>\n",
       "      <th>1</th>\n",
       "      <td>18</td>\n",
       "      <td>33.770</td>\n",
       "      <td>1</td>\n",
       "      <td>0</td>\n",
       "    </tr>\n",
       "    <tr>\n",
       "      <th>2</th>\n",
       "      <td>28</td>\n",
       "      <td>33.000</td>\n",
       "      <td>3</td>\n",
       "      <td>0</td>\n",
       "    </tr>\n",
       "    <tr>\n",
       "      <th>3</th>\n",
       "      <td>33</td>\n",
       "      <td>22.705</td>\n",
       "      <td>0</td>\n",
       "      <td>0</td>\n",
       "    </tr>\n",
       "    <tr>\n",
       "      <th>4</th>\n",
       "      <td>32</td>\n",
       "      <td>28.880</td>\n",
       "      <td>0</td>\n",
       "      <td>0</td>\n",
       "    </tr>\n",
       "  </tbody>\n",
       "</table>\n",
       "</div>"
      ],
      "text/plain": [
       "   age     bmi  children  smoker\n",
       "0   19  27.900         0       1\n",
       "1   18  33.770         1       0\n",
       "2   28  33.000         3       0\n",
       "3   33  22.705         0       0\n",
       "4   32  28.880         0       0"
      ]
     },
     "execution_count": 21,
     "metadata": {},
     "output_type": "execute_result"
    }
   ],
   "source": [
    "x = dataset.drop(['sex','region', 'charges'], axis=1)\n",
    "x.head()"
   ]
  },
  {
   "cell_type": "code",
   "execution_count": 22,
   "metadata": {},
   "outputs": [],
   "source": [
    "x_train, x_test, y_train, y_test = train_test_split(x,y, test_size=0.2, random_state=0)"
   ]
  },
  {
   "cell_type": "code",
   "execution_count": 23,
   "metadata": {},
   "outputs": [
    {
     "data": {
      "text/plain": [
       "LinearRegression()"
      ]
     },
     "execution_count": 23,
     "metadata": {},
     "output_type": "execute_result"
    }
   ],
   "source": [
    "ml = LinearRegression()\n",
    "ml.fit(x_train,y_train)"
   ]
  },
  {
   "cell_type": "code",
   "execution_count": 24,
   "metadata": {},
   "outputs": [
    {
     "data": {
      "text/plain": [
       "array([  254.97145832,   320.6190203 ,   430.54569459, 23587.5571278 ])"
      ]
     },
     "execution_count": 24,
     "metadata": {},
     "output_type": "execute_result"
    }
   ],
   "source": [
    "ml.coef_"
   ]
  },
  {
   "cell_type": "code",
   "execution_count": 25,
   "metadata": {},
   "outputs": [
    {
     "data": {
      "text/plain": [
       "-11910.538156786197"
      ]
     },
     "execution_count": 25,
     "metadata": {},
     "output_type": "execute_result"
    }
   ],
   "source": [
    "ml.intercept_"
   ]
  },
  {
   "cell_type": "code",
   "execution_count": 26,
   "metadata": {},
   "outputs": [
    {
     "data": {
      "text/plain": [
       "0.7978274606303822"
      ]
     },
     "execution_count": 26,
     "metadata": {},
     "output_type": "execute_result"
    }
   ],
   "source": [
    "ml.score(x_test, y_test)"
   ]
  },
  {
   "cell_type": "code",
   "execution_count": 15,
   "metadata": {},
   "outputs": [
    {
     "data": {
      "text/plain": [
       "array([11461.21778356,  9920.2467051 , 37782.65091804, 15948.07879991,\n",
       "        6880.17953405,  3611.72298504,  1116.03761213, 14050.36635496,\n",
       "        8755.91494642,  7245.24400051,  4141.88989561, 10105.75686073,\n",
       "        9070.28895257,  4297.76835129, 27698.89042419, 11158.3034547 ,\n",
       "       11185.20391622,  5566.17742364,  8020.78118255, 26614.64277528,\n",
       "       33491.40334294, 14072.29016492, 11247.08992767, 32583.50484706,\n",
       "        4526.13824173,  8649.40532691,   772.16553719, 10160.3849297 ,\n",
       "        4246.31063366, 10201.54588088,  8778.51695222, 40341.14720167,\n",
       "       15888.84361834, 14071.98150805, 24375.43626726,  4693.49482979,\n",
       "       12917.26831998, 30917.29783745, 33245.25708334,  3865.50438555,\n",
       "        3634.32499084,  4441.72956167, 30088.45417165, 39174.930838  ,\n",
       "       28081.31611876,  4782.78344047, 11052.499178  ,  7665.89830648,\n",
       "        3205.13568791, 10741.82476894,  5132.18752728,  3180.44587201,\n",
       "       33323.52723342, 37851.13513126, 16314.94956658,  6589.79766046,\n",
       "        6075.04545851,  9305.5830854 ,  9388.16042203, 11615.74961081,\n",
       "        2135.68543386, 38675.99872249, 15295.0821884 , 12055.12050413,\n",
       "       13472.32721915, 14188.003214  , 26220.20204312, 31898.8593708 ,\n",
       "        1323.30421147,  9909.61520616, 12684.17717329, 12011.47608931,\n",
       "       25529.34739157, 15967.4746155 , 11093.82749543, 12220.80335177,\n",
       "        6967.95307869, 10009.09513151, 29734.92768724, 39299.29406009,\n",
       "       11596.88200855, 37453.39041661,  3993.91066804,  9676.4175753 ,\n",
       "       34280.17832307, 29318.80115669,  8743.51191477,  4678.74962512,\n",
       "       12380.34663703, 30644.01413718,  9449.57910224, 11699.40075785,\n",
       "        7713.32931504,  9347.09619179,  7875.95595498,  6791.4181043 ,\n",
       "       35538.64381659, 33439.54893937,  7362.95683063, 15288.81002726,\n",
       "        4393.1606855 ,  8542.31530386,  6670.18173523, 31894.90433946,\n",
       "       32754.18176896,  1857.3815837 ,  9453.54385787,  6376.58601197,\n",
       "       14056.1885686 , 37491.61033613, 10033.24804221, 10777.4700596 ,\n",
       "       10018.11484348, 26439.74673484, 40148.61711512,  8035.52638722,\n",
       "         673.05515079,  9366.50069926, 15458.28923187,  9364.12268739,\n",
       "       35465.09492275,  7226.52741316, 17136.21028167,  9031.01260638,\n",
       "        8555.77476218,  2832.45139947, 32467.39511205, 31352.39845443,\n",
       "       39768.00538024,  5261.87955612,  9726.95039365,  3936.79810303,\n",
       "        8048.72068698,  8281.28465274, 32004.39082949, 30221.11437914,\n",
       "       30285.8728807 ,  9246.49788634, 32956.81514112,  3156.48747455,\n",
       "        3423.05013754, 10976.40486709, 13470.57414155, 12366.20898288,\n",
       "        5291.07976368, 15940.30133596, 15272.3302001 ,  2246.8456643 ,\n",
       "         -91.0136621 , 10451.42654401,  6950.60054247, 32068.92767083,\n",
       "       11879.54626786,  2737.68296712,  6065.78773498,  8276.51886577,\n",
       "        4180.78590721,  2526.07441373, 11145.47869388, 12238.55154153,\n",
       "        6712.69907807, 16700.00973969, 11672.54482707, 14252.12701806,\n",
       "        2827.65080604,  6713.3772739 , 23478.90941959,  7062.49115895,\n",
       "        5043.96510649,  5445.99748123,  6464.90622505,  4740.05523304,\n",
       "        9752.52057809,  5706.1749108 ,  5980.08461669,  6977.96730284,\n",
       "        3308.49130742,  5469.42000589, 37576.03747131,  1055.11999827,\n",
       "       12382.31057921,  8714.1551366 , 13527.08784792,  5765.72744112,\n",
       "        4807.86125043, 36044.17413387,  3872.07544033,  2338.75029842,\n",
       "       14976.84117997, 12135.19592202, 34629.29220811,  5172.73223607,\n",
       "        6003.01266312, 31745.16544617,  5885.80089935,  2480.74756662,\n",
       "        7948.5625658 ,  9430.42129821,  8300.60879062,  5592.2236312 ,\n",
       "       12644.46064283, 38857.76471135, 13482.27183039, 29176.80388849,\n",
       "        6517.96703777, 35835.49792026,  3335.50591258, 12281.08626813,\n",
       "        9371.95234154,  6468.77215598, 11114.63189289, 14070.93377326,\n",
       "        4957.38927914,  4662.48066255,  8207.66511359,  1711.26191791,\n",
       "        7393.12543579,  4030.96767673, 13347.24230291,  3928.00005128,\n",
       "       10233.65128124,  6787.39349899,  9593.98152929,  1987.07361255,\n",
       "       13490.29599777, 16560.69914024, 15255.37434982, 10957.40573743,\n",
       "        5841.48805193,  2716.48188372,  2342.40536476, 12889.09949586,\n",
       "       14418.56739872,  4452.53715769,  4261.73403416,  9728.31547719,\n",
       "        9530.77393263, 27756.36383628,  7194.27099789, 10078.74225557,\n",
       "        6627.46221968, 29490.13781931, 11299.34867664,  7094.35958015,\n",
       "       10000.31343111, 12023.98350137,  2559.29053471, 10570.78596755,\n",
       "        1130.78281679,  6649.45667495, 28855.87621132, 38925.24468811,\n",
       "        6544.98164294,  8401.97332097,  2029.80181997,    49.97936964,\n",
       "       10798.58414634,  4493.75899095,  4744.85582647,  2845.80437361,\n",
       "        7379.41161457, 33705.22254195, 37749.86732185, 14536.06067238,\n",
       "        8081.02060058, 15537.36910518, 33137.97254706,  9059.53461811])"
      ]
     },
     "execution_count": 15,
     "metadata": {},
     "output_type": "execute_result"
    }
   ],
   "source": [
    "predicted = ml.predict(x_test)\n",
    "predicted"
   ]
  },
  {
   "cell_type": "code",
   "execution_count": 27,
   "metadata": {},
   "outputs": [
    {
     "data": {
      "text/plain": [
       "Text(0.5, 1.0, 'Test vs Predicted')"
      ]
     },
     "execution_count": 27,
     "metadata": {},
     "output_type": "execute_result"
    },
    {
     "data": {
      "image/png": "[encoded data removed]",
      "text/plain": [
       "<Figure size 1080x720 with 1 Axes>"
      ]
     },
     "metadata": {
      "needs_background": "light"
     },
     "output_type": "display_data"
    }
   ],
   "source": [
    "plt.figure(figsize=(15,10))\n",
    "plt.scatter(y_test, predicted)\n",
    "plt.xlabel('Actual')\n",
    "plt.ylabel('Predicted')\n",
    "plt.title('Test vs Predicted')"
   ]
  },
  {
   "cell_type": "code",
   "execution_count": null,
   "metadata": {},
   "outputs": [],
   "source": []
  },
  {
   "cell_type": "code",
   "execution_count": null,
   "metadata": {},
   "outputs": [],
   "source": []
  }
 ],
 "metadata": {
  "kernelspec": {
   "display_name": "Python 3",
   "language": "python",
   "name": "python3"
  },
  "language_info": {
   "codemirror_mode": {
    "name": "ipython",
    "version": 3
   },
   "file_extension": ".py",
   "mimetype": "text/x-python",
   "name": "python",
   "nbconvert_exporter": "python",
   "pygments_lexer": "ipython3",
   "version": "3.8.5"
  }
 },
 "nbformat": 4,
 "nbformat_minor": 4
}
